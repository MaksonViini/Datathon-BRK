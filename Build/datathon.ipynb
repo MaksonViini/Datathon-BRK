{
 "cells": [
  {
   "cell_type": "code",
   "execution_count": 48,
   "metadata": {},
   "outputs": [],
   "source": [
    "import pandas as pd\n",
    "import numpy as np\n",
    "import matplotlib.pyplot as plt"
   ]
  },
  {
   "cell_type": "code",
   "execution_count": 49,
   "metadata": {},
   "outputs": [],
   "source": [
    "data = pd.read_csv('/home/maksonvinicio/Documents/GitHub/Datathon-BRK/Data/all_data.csv')"
   ]
  },
  {
   "cell_type": "code",
   "execution_count": 50,
   "metadata": {},
   "outputs": [
    {
     "data": {
      "text/html": [
       "<div>\n",
       "<style scoped>\n",
       "    .dataframe tbody tr th:only-of-type {\n",
       "        vertical-align: middle;\n",
       "    }\n",
       "\n",
       "    .dataframe tbody tr th {\n",
       "        vertical-align: top;\n",
       "    }\n",
       "\n",
       "    .dataframe thead th {\n",
       "        text-align: right;\n",
       "    }\n",
       "</style>\n",
       "<table border=\"1\" class=\"dataframe\">\n",
       "  <thead>\n",
       "    <tr style=\"text-align: right;\">\n",
       "      <th></th>\n",
       "      <th>Ano</th>\n",
       "      <th>Município</th>\n",
       "      <th>Parcela_das_moradias_sem_banheiro_de_uso_exclusivo</th>\n",
       "      <th>Parcela_da_população_que_não_recebe_água_com_regularidade_adequada</th>\n",
       "      <th>Parcela_da_população_total_que_mora_em_domicílios_sem_acesso_à_água_tratada</th>\n",
       "      <th>Volume_de_água_consumida_per_capita</th>\n",
       "      <th>Volume_de_esgoto_coletado</th>\n",
       "      <th>Volume_de_esgoto_tratado</th>\n",
       "      <th>Volume_de_esgoto_não_tratado</th>\n",
       "      <th>Tarifa_média_de_água</th>\n",
       "      <th>...</th>\n",
       "      <th>Custo_total_dos_operadores_com_produtos_químicos</th>\n",
       "      <th>Custo_total_dos_operadores_com_energia_elétrica</th>\n",
       "      <th>Internações_por_doenças_associadas_à_falta_de_saneamento</th>\n",
       "      <th>Taxa_de_incidência_de_internações_por_doenças_associadas_à_falta_de_saneamento</th>\n",
       "      <th>Atraso_escolar_das_pessoas_que_moram_em_residências_com_saneamento_básico</th>\n",
       "      <th>Atraso_escolar_das_pessoas_que_moram_em_residências_sem_saneamento</th>\n",
       "      <th>Investimentos_per_capita_em_saneamento</th>\n",
       "      <th>Renda_induzida_gerada_pelas_operação_de_saneamento</th>\n",
       "      <th>Renda_total_gerada_pelas_operação_de_saneamento</th>\n",
       "      <th>Redução_dos_custos_com_a_saúde</th>\n",
       "    </tr>\n",
       "  </thead>\n",
       "  <tbody>\n",
       "    <tr>\n",
       "      <th>0</th>\n",
       "      <td>2019</td>\n",
       "      <td>Conde (Município)</td>\n",
       "      <td>0.000</td>\n",
       "      <td>-</td>\n",
       "      <td>0.441</td>\n",
       "      <td>50.75</td>\n",
       "      <td>-</td>\n",
       "      <td>-</td>\n",
       "      <td>-</td>\n",
       "      <td>4.4</td>\n",
       "      <td>...</td>\n",
       "      <td>14019.71</td>\n",
       "      <td>309210.55</td>\n",
       "      <td>35</td>\n",
       "      <td>14.19</td>\n",
       "      <td>-</td>\n",
       "      <td>1.65</td>\n",
       "      <td>86.4</td>\n",
       "      <td>1195903.04</td>\n",
       "      <td>3997596.04</td>\n",
       "      <td>-</td>\n",
       "    </tr>\n",
       "    <tr>\n",
       "      <th>1</th>\n",
       "      <td>2018</td>\n",
       "      <td>Conde (Município)</td>\n",
       "      <td>0.007</td>\n",
       "      <td>-</td>\n",
       "      <td>0.435</td>\n",
       "      <td>69.54</td>\n",
       "      <td>0</td>\n",
       "      <td>0</td>\n",
       "      <td>617.36</td>\n",
       "      <td>4.5</td>\n",
       "      <td>...</td>\n",
       "      <td>12935.99</td>\n",
       "      <td>623949.58</td>\n",
       "      <td>12</td>\n",
       "      <td>4.93</td>\n",
       "      <td>-</td>\n",
       "      <td>1.66</td>\n",
       "      <td>19.94</td>\n",
       "      <td>1162000.29</td>\n",
       "      <td>3884267.89</td>\n",
       "      <td>-</td>\n",
       "    </tr>\n",
       "  </tbody>\n",
       "</table>\n",
       "<p>2 rows × 23 columns</p>\n",
       "</div>"
      ],
      "text/plain": [
       "    Ano          Município  \\\n",
       "0  2019  Conde (Município)   \n",
       "1  2018  Conde (Município)   \n",
       "\n",
       "   Parcela_das_moradias_sem_banheiro_de_uso_exclusivo  \\\n",
       "0                                              0.000    \n",
       "1                                              0.007    \n",
       "\n",
       "  Parcela_da_população_que_não_recebe_água_com_regularidade_adequada  \\\n",
       "0                                                  -                   \n",
       "1                                                  -                   \n",
       "\n",
       "  Parcela_da_população_total_que_mora_em_domicílios_sem_acesso_à_água_tratada  \\\n",
       "0                                              0.441                            \n",
       "1                                              0.435                            \n",
       "\n",
       "  Volume_de_água_consumida_per_capita Volume_de_esgoto_coletado  \\\n",
       "0                               50.75                         -   \n",
       "1                               69.54                         0   \n",
       "\n",
       "  Volume_de_esgoto_tratado Volume_de_esgoto_não_tratado Tarifa_média_de_água  \\\n",
       "0                        -                            -                  4.4   \n",
       "1                        0                       617.36                  4.5   \n",
       "\n",
       "   ... Custo_total_dos_operadores_com_produtos_químicos  \\\n",
       "0  ...                                         14019.71   \n",
       "1  ...                                         12935.99   \n",
       "\n",
       "  Custo_total_dos_operadores_com_energia_elétrica  \\\n",
       "0                                       309210.55   \n",
       "1                                       623949.58   \n",
       "\n",
       "  Internações_por_doenças_associadas_à_falta_de_saneamento  \\\n",
       "0                                                 35         \n",
       "1                                                 12         \n",
       "\n",
       "  Taxa_de_incidência_de_internações_por_doenças_associadas_à_falta_de_saneamento  \\\n",
       "0                                              14.19                               \n",
       "1                                               4.93                               \n",
       "\n",
       "  Atraso_escolar_das_pessoas_que_moram_em_residências_com_saneamento_básico  \\\n",
       "0                                                  -                          \n",
       "1                                                  -                          \n",
       "\n",
       "   Atraso_escolar_das_pessoas_que_moram_em_residências_sem_saneamento  \\\n",
       "0                                               1.65                    \n",
       "1                                               1.66                    \n",
       "\n",
       "   Investimentos_per_capita_em_saneamento  \\\n",
       "0                                    86.4   \n",
       "1                                   19.94   \n",
       "\n",
       "  Renda_induzida_gerada_pelas_operação_de_saneamento  \\\n",
       "0                                         1195903.04   \n",
       "1                                         1162000.29   \n",
       "\n",
       "  Renda_total_gerada_pelas_operação_de_saneamento  \\\n",
       "0                                      3997596.04   \n",
       "1                                      3884267.89   \n",
       "\n",
       "  Redução_dos_custos_com_a_saúde  \n",
       "0                              -  \n",
       "1                              -  \n",
       "\n",
       "[2 rows x 23 columns]"
      ]
     },
     "execution_count": 50,
     "metadata": {},
     "output_type": "execute_result"
    }
   ],
   "source": [
    "data.head(2)"
   ]
  },
  {
   "cell_type": "code",
   "execution_count": 51,
   "metadata": {},
   "outputs": [
    {
     "data": {
      "text/plain": [
       "831"
      ]
     },
     "execution_count": 51,
     "metadata": {},
     "output_type": "execute_result"
    }
   ],
   "source": [
    "len(data['Município'].unique())"
   ]
  },
  {
   "cell_type": "code",
   "execution_count": 52,
   "metadata": {},
   "outputs": [],
   "source": [
    "for cols in data.columns[2::]:\n",
    "    data[cols] = data[cols].astype(str)\n",
    "    data[cols] = data[cols].replace('-', np.nan)"
   ]
  },
  {
   "cell_type": "code",
   "execution_count": 53,
   "metadata": {},
   "outputs": [
    {
     "data": {
      "text/plain": [
       "Ano                                                                                  0\n",
       "Município                                                                            0\n",
       "Parcela_das_moradias_sem_banheiro_de_uso_exclusivo                                   0\n",
       "Parcela_da_população_que_não_recebe_água_com_regularidade_adequada                8282\n",
       "Parcela_da_população_total_que_mora_em_domicílios_sem_acesso_à_água_tratada        325\n",
       "Volume_de_água_consumida_per_capita                                                332\n",
       "Volume_de_esgoto_coletado                                                          511\n",
       "Volume_de_esgoto_tratado                                                           510\n",
       "Volume_de_esgoto_não_tratado                                                       511\n",
       "Tarifa_média_de_água                                                               426\n",
       "Tarifa_média_de_coleta_de_esgoto                                                   842\n",
       "Tarifa_média_ponderada_dos_serviços_de_saneamento                                  415\n",
       "Custo_total_dos_operadores_com_os_serviços_de_saneamento                           328\n",
       "Custo_total_dos_operadores_com_produtos_químicos                                   374\n",
       "Custo_total_dos_operadores_com_energia_elétrica                                    330\n",
       "Internações_por_doenças_associadas_à_falta_de_saneamento                             0\n",
       "Taxa_de_incidência_de_internações_por_doenças_associadas_à_falta_de_saneamento       0\n",
       "Atraso_escolar_das_pessoas_que_moram_em_residências_com_saneamento_básico           88\n",
       "Atraso_escolar_das_pessoas_que_moram_em_residências_sem_saneamento                  40\n",
       "Investimentos_per_capita_em_saneamento                                             253\n",
       "Renda_induzida_gerada_pelas_operação_de_saneamento                                 414\n",
       "Renda_total_gerada_pelas_operação_de_saneamento                                    414\n",
       "Redução_dos_custos_com_a_saúde                                                    8363\n",
       "dtype: int64"
      ]
     },
     "execution_count": 53,
     "metadata": {},
     "output_type": "execute_result"
    }
   ],
   "source": [
    "data.isna().sum()"
   ]
  }
 ],
 "metadata": {
  "interpreter": {
   "hash": "916dbcbb3f70747c44a77c7bcd40155683ae19c65e1c03b4aa3499c5328201f1"
  },
  "kernelspec": {
   "display_name": "Python 3.9.5 64-bit",
   "language": "python",
   "name": "python3"
  },
  "language_info": {
   "codemirror_mode": {
    "name": "ipython",
    "version": 3
   },
   "file_extension": ".py",
   "mimetype": "text/x-python",
   "name": "python",
   "nbconvert_exporter": "python",
   "pygments_lexer": "ipython3",
   "version": "3.9.5"
  },
  "orig_nbformat": 4
 },
 "nbformat": 4,
 "nbformat_minor": 2
}
